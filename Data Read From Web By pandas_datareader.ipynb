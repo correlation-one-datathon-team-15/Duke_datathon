{
 "cells": [
  {
   "cell_type": "code",
   "execution_count": 1,
   "metadata": {
    "collapsed": true
   },
   "outputs": [],
   "source": [
    "import pandas_datareader.data as web\n",
    "import datetime\n",
    "import matplotlib.pyplot as plt\n",
    "%matplotlib inline"
   ]
  },
  {
   "cell_type": "code",
   "execution_count": 3,
   "metadata": {
    "collapsed": false
   },
   "outputs": [
    {
     "data": {
      "image/png": "[encoded data removed]",
      "text/plain": [
       "<matplotlib.figure.Figure at 0x436a4e0>"
      ]
     },
     "metadata": {},
     "output_type": "display_data"
    }
   ],
   "source": [
    "start = datetime.datetime(2007, 8, 1)\n",
    "end = datetime.datetime(2015, 12, 31)\n",
    "tech_index = web.DataReader(\"NDXT\", 'yahoo', start, end)\n",
    "plt.plot(tech_index)\n",
    "tech_index.to_csv('data/tech_index')"
   ]
  },
  {
   "cell_type": "code",
   "execution_count": 2,
   "metadata": {
    "collapsed": true
   },
   "outputs": [],
   "source": [
    "import pandas as pd"
   ]
  },
  {
   "cell_type": "code",
   "execution_count": 4,
   "metadata": {
    "collapsed": false,
    "scrolled": true
   },
   "outputs": [
    {
     "name": "stderr",
     "output_type": "stream",
     "text": [
      "C:\\Users\\chali\\Anaconda2\\envs\\gl-env\\lib\\site-packages\\ipykernel\\__main__.py:3: FutureWarning: sort(columns=....) is deprecated, use sort_values(by=.....)\n",
      "  app.launch_new_instance()\n"
     ]
    },
    {
     "name": "stdout",
     "output_type": "stream",
     "text": [
      "              company_id           zip  category_id  \\\n",
      "created_date                                          \n",
      "1970-01-01     268818809  3.504259e+10     75576777   \n",
      "\n",
      "                                                           date  \n",
      "created_date                                                     \n",
      "1970-01-01    DatetimeIndex(['1970-01-01'], dtype='datetime6...  \n"
     ]
    },
    {
     "name": "stderr",
     "output_type": "stream",
     "text": [
      "C:\\Users\\chali\\Anaconda2\\envs\\gl-env\\lib\\site-packages\\ipykernel\\__main__.py:9: FutureWarning: how in .resample() is deprecated\n",
      "the new syntax is .resample(...).sum()\n"
     ]
    }
   ],
   "source": [
    "jobs_sears = pd.read_csv('jobs_sears.csv')\n",
    "\n",
    "jobs_sears.sort('created_date')\n",
    "\n",
    "jobs_sears['created_date'] = pd.to_datetime(jobs_sears['created_date'])\n",
    "jobs_sears.index = jobs_sears['created_date']\n",
    "del jobs_sears['created_date']\n",
    "\n",
    "jobs_sears = jobs_sears.resample('D', how='sum')\n",
    "jobs_sears['date'] = str(jobs_sears.index)\n",
    "print jobs_sears.head()\n",
    "#tech_mon.to_csv('tech_mon.csv')\n",
    "#plt.plot(jobs_sears.index,jobs_sears['count'], '-')"
   ]
  },
  {
   "cell_type": "code",
   "execution_count": 5,
   "metadata": {
    "collapsed": false
   },
   "outputs": [
    {
     "data": {
      "text/html": [
       "<div>\n",
       "<table border=\"1\" class=\"dataframe\">\n",
       "  <thead>\n",
       "    <tr style=\"text-align: right;\">\n",
       "      <th></th>\n",
       "      <th>company_id</th>\n",
       "      <th>zip</th>\n",
       "      <th>category_id</th>\n",
       "      <th>date</th>\n",
       "    </tr>\n",
       "    <tr>\n",
       "      <th>created_date</th>\n",
       "      <th></th>\n",
       "      <th></th>\n",
       "      <th></th>\n",
       "      <th></th>\n",
       "    </tr>\n",
       "  </thead>\n",
       "  <tbody>\n",
       "    <tr>\n",
       "      <th>1970-01-01</th>\n",
       "      <td>268818809</td>\n",
       "      <td>3.504259e+10</td>\n",
       "      <td>75576777</td>\n",
       "      <td>DatetimeIndex(['1970-01-01'], dtype='datetime6...</td>\n",
       "    </tr>\n",
       "  </tbody>\n",
       "</table>\n",
       "</div>"
      ],
      "text/plain": [
       "              company_id           zip  category_id  \\\n",
       "created_date                                          \n",
       "1970-01-01     268818809  3.504259e+10     75576777   \n",
       "\n",
       "                                                           date  \n",
       "created_date                                                     \n",
       "1970-01-01    DatetimeIndex(['1970-01-01'], dtype='datetime6...  "
      ]
     },
     "execution_count": 5,
     "metadata": {},
     "output_type": "execute_result"
    }
   ],
   "source": [
    "jobs_sears.head()"
   ]
  },
  {
   "cell_type": "code",
   "execution_count": null,
   "metadata": {
    "collapsed": true
   },
   "outputs": [],
   "source": []
  }
 ],
 "metadata": {
  "kernelspec": {
   "display_name": "Python 2",
   "language": "python",
   "name": "python2"
  },
  "language_info": {
   "codemirror_mode": {
    "name": "ipython",
    "version": 2
   },
   "file_extension": ".py",
   "mimetype": "text/x-python",
   "name": "python",
   "nbconvert_exporter": "python",
   "pygments_lexer": "ipython2",
   "version": "2.7.13"
  }
 },
 "nbformat": 4,
 "nbformat_minor": 0
}
